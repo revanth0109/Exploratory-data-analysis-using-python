{
  "nbformat": 4,
  "nbformat_minor": 0,
  "metadata": {
    "colab": {
      "provenance": [],
      "authorship_tag": "ABX9TyMnGqJYlmfE0oCHvQ6yqKFJ",
      "include_colab_link": true
    },
    "kernelspec": {
      "name": "python3",
      "display_name": "Python 3"
    },
    "language_info": {
      "name": "python"
    }
  },
  "cells": [
    {
      "cell_type": "markdown",
      "metadata": {
        "id": "view-in-github",
        "colab_type": "text"
      },
      "source": [
        "<a href=\"https://colab.research.google.com/github/revanth0109/Exploratory-data-analysis-using-python/blob/main/online%20payments%20fraud%20detection%20using%20machine%20learning.ipynb\" target=\"_parent\"><img src=\"https://colab.research.google.com/assets/colab-badge.svg\" alt=\"Open In Colab\"/></a>"
      ]
    },
    {
      "cell_type": "code",
      "execution_count": 6,
      "metadata": {
        "id": "0VtnXff7YJZQ"
      },
      "outputs": [],
      "source": [
        "import pandas as pd\n",
        "import matplotlib.pyplot as plt\n",
        "import seaborn as sns\n",
        "import numpy as np"
      ]
    },
    {
      "cell_type": "code",
      "source": [
        "list = pd.read_csv('/content/PS_20174392719_1491204439457_log.csv')"
      ],
      "metadata": {
        "id": "er7O7z8MYX-x"
      },
      "execution_count": 7,
      "outputs": []
    },
    {
      "cell_type": "code",
      "source": [
        "list.head"
      ],
      "metadata": {
        "id": "jxOnFngLYYRH",
        "colab": {
          "base_uri": "https://localhost:8080/"
        },
        "outputId": "564dabff-cc19-4cde-d982-7240804c7909"
      },
      "execution_count": 8,
      "outputs": [
        {
          "output_type": "execute_result",
          "data": {
            "text/plain": [
              "<bound method NDFrame.head of         step      type     amount     nameOrig  oldbalanceOrg  newbalanceOrig  \\\n",
              "0          1   PAYMENT    9839.64  C1231006815      170136.00       160296.36   \n",
              "1          1   PAYMENT    1864.28  C1666544295       21249.00        19384.72   \n",
              "2          1  TRANSFER     181.00  C1305486145         181.00            0.00   \n",
              "3          1  CASH_OUT     181.00   C840083671         181.00            0.00   \n",
              "4          1   PAYMENT   11668.14  C2048537720       41554.00        29885.86   \n",
              "...      ...       ...        ...          ...            ...             ...   \n",
              "341824    16   PAYMENT    3463.03  C1446181326      137107.00       133643.97   \n",
              "341825    16   PAYMENT      98.96   C752066037       93488.00        93389.04   \n",
              "341826    16   CASH_IN  278319.05    C50488376       93389.04       371708.09   \n",
              "341827    16   CASH_IN  323648.70  C1826674225      371708.09       695356.79   \n",
              "341828    16   CASH_IN   45336.34  C1550631533      695356.79       740693.13   \n",
              "\n",
              "           nameDest  oldbalanceDest  newbalanceDest  isFraud  isFlaggedFraud  \n",
              "0       M1979787155            0.00            0.00      0.0             0.0  \n",
              "1       M2044282225            0.00            0.00      0.0             0.0  \n",
              "2        C553264065            0.00            0.00      1.0             0.0  \n",
              "3         C38997010        21182.00            0.00      1.0             0.0  \n",
              "4       M1230701703            0.00            0.00      0.0             0.0  \n",
              "...             ...             ...             ...      ...             ...  \n",
              "341824  M1467424582            0.00            0.00      0.0             0.0  \n",
              "341825  M1119815976            0.00            0.00      0.0             0.0  \n",
              "341826  C1331875424      2184489.63      1906170.58      0.0             0.0  \n",
              "341827   C114649116       346310.91        22662.22      0.0             0.0  \n",
              "341828          NaN             NaN             NaN      NaN             NaN  \n",
              "\n",
              "[341829 rows x 11 columns]>"
            ]
          },
          "metadata": {},
          "execution_count": 8
        }
      ]
    },
    {
      "cell_type": "code",
      "source": [
        "list.shape"
      ],
      "metadata": {
        "id": "i8PrPUoeYYUP",
        "colab": {
          "base_uri": "https://localhost:8080/"
        },
        "outputId": "e15b0316-0a1c-4f0a-842d-ece3514b8d38"
      },
      "execution_count": 9,
      "outputs": [
        {
          "output_type": "execute_result",
          "data": {
            "text/plain": [
              "(341829, 11)"
            ]
          },
          "metadata": {},
          "execution_count": 9
        }
      ]
    },
    {
      "cell_type": "code",
      "source": [
        "list.value_counts()"
      ],
      "metadata": {
        "id": "guKygcKuYYW8",
        "colab": {
          "base_uri": "https://localhost:8080/"
        },
        "outputId": "c3ad5aae-3750-40ba-e1c3-55340e42808d"
      },
      "execution_count": 10,
      "outputs": [
        {
          "output_type": "execute_result",
          "data": {
            "text/plain": [
              "step  type      amount      nameOrig     oldbalanceOrg  newbalanceOrig  nameDest     oldbalanceDest  newbalanceDest  isFraud  isFlaggedFraud\n",
              "1     CASH_IN   270.78      C619985571   4184966.65     4185237.43      C875917495   3019.00         0.00            0.0      0.0               1\n",
              "14    CASH_IN   368627.71   C391633425   16216.00       384843.71       C886452342   61713.00        0.00            0.0      0.0               1\n",
              "                368299.12   C1932412335  49360.00       417659.12       C1285563720  0.00            1288761.20      0.0      0.0               1\n",
              "                368100.74   C535789728   844731.64      1212832.38      C556076839   811149.62       849013.15       0.0      0.0               1\n",
              "                368041.45   C94876823    5658332.25     6026373.69      C1107377692  1006965.70      638924.25       0.0      0.0               1\n",
              "                                                                                                                                               ..\n",
              "11    CASH_IN   220940.49   C594142640   593.00         221533.49       C898092839   567488.79       524332.05       0.0      0.0               1\n",
              "                220880.81   C1766958809  6400.00        227280.81       C1618006915  0.00            1771599.73      0.0      0.0               1\n",
              "                220853.38   C1777289350  9688204.72     9909058.10      C1292758136  229701.00       8847.62         0.0      0.0               1\n",
              "                220798.33   C647995486   5503177.32     5723975.66      C2024005893  731279.61       510481.28       0.0      0.0               1\n",
              "16    TRANSFER  3469083.04  C355323697   0.00           0.00            C930580526   6088540.58      10633977.31     0.0      0.0               1\n",
              "Length: 341828, dtype: int64"
            ]
          },
          "metadata": {},
          "execution_count": 10
        }
      ]
    },
    {
      "cell_type": "code",
      "source": [
        "list['isFlaggedFraud'].value_counts()"
      ],
      "metadata": {
        "id": "BRvnifMgYYZ4",
        "colab": {
          "base_uri": "https://localhost:8080/"
        },
        "outputId": "f771d575-decb-4710-bc6d-35bee1d4862b"
      },
      "execution_count": 12,
      "outputs": [
        {
          "output_type": "execute_result",
          "data": {
            "text/plain": [
              "0.0    341828\n",
              "Name: isFlaggedFraud, dtype: int64"
            ]
          },
          "metadata": {},
          "execution_count": 12
        }
      ]
    },
    {
      "cell_type": "code",
      "source": [
        "list['isFraud'].value_counts()"
      ],
      "metadata": {
        "id": "AQueB56_YYdi",
        "colab": {
          "base_uri": "https://localhost:8080/"
        },
        "outputId": "96fd7d6e-fc61-4f1f-9b89-0728763d9c1b"
      },
      "execution_count": 13,
      "outputs": [
        {
          "output_type": "execute_result",
          "data": {
            "text/plain": [
              "0.0    341635\n",
              "1.0       193\n",
              "Name: isFraud, dtype: int64"
            ]
          },
          "metadata": {},
          "execution_count": 13
        }
      ]
    },
    {
      "cell_type": "code",
      "source": [
        "list.tail()"
      ],
      "metadata": {
        "colab": {
          "base_uri": "https://localhost:8080/",
          "height": 206
        },
        "id": "ZAw3il96csFw",
        "outputId": "58fdb9e4-00bb-457b-8282-e3e955aabeba"
      },
      "execution_count": 14,
      "outputs": [
        {
          "output_type": "execute_result",
          "data": {
            "text/plain": [
              "        step     type     amount     nameOrig  oldbalanceOrg  newbalanceOrig  \\\n",
              "341824    16  PAYMENT    3463.03  C1446181326      137107.00       133643.97   \n",
              "341825    16  PAYMENT      98.96   C752066037       93488.00        93389.04   \n",
              "341826    16  CASH_IN  278319.05    C50488376       93389.04       371708.09   \n",
              "341827    16  CASH_IN  323648.70  C1826674225      371708.09       695356.79   \n",
              "341828    16  CASH_IN   45336.34  C1550631533      695356.79       740693.13   \n",
              "\n",
              "           nameDest  oldbalanceDest  newbalanceDest  isFraud  isFlaggedFraud  \n",
              "341824  M1467424582            0.00            0.00      0.0             0.0  \n",
              "341825  M1119815976            0.00            0.00      0.0             0.0  \n",
              "341826  C1331875424      2184489.63      1906170.58      0.0             0.0  \n",
              "341827   C114649116       346310.91        22662.22      0.0             0.0  \n",
              "341828          NaN             NaN             NaN      NaN             NaN  "
            ],
            "text/html": [
              "\n",
              "  <div id=\"df-7235e9f3-5033-4563-988f-a29f0705dc9e\">\n",
              "    <div class=\"colab-df-container\">\n",
              "      <div>\n",
              "<style scoped>\n",
              "    .dataframe tbody tr th:only-of-type {\n",
              "        vertical-align: middle;\n",
              "    }\n",
              "\n",
              "    .dataframe tbody tr th {\n",
              "        vertical-align: top;\n",
              "    }\n",
              "\n",
              "    .dataframe thead th {\n",
              "        text-align: right;\n",
              "    }\n",
              "</style>\n",
              "<table border=\"1\" class=\"dataframe\">\n",
              "  <thead>\n",
              "    <tr style=\"text-align: right;\">\n",
              "      <th></th>\n",
              "      <th>step</th>\n",
              "      <th>type</th>\n",
              "      <th>amount</th>\n",
              "      <th>nameOrig</th>\n",
              "      <th>oldbalanceOrg</th>\n",
              "      <th>newbalanceOrig</th>\n",
              "      <th>nameDest</th>\n",
              "      <th>oldbalanceDest</th>\n",
              "      <th>newbalanceDest</th>\n",
              "      <th>isFraud</th>\n",
              "      <th>isFlaggedFraud</th>\n",
              "    </tr>\n",
              "  </thead>\n",
              "  <tbody>\n",
              "    <tr>\n",
              "      <th>341824</th>\n",
              "      <td>16</td>\n",
              "      <td>PAYMENT</td>\n",
              "      <td>3463.03</td>\n",
              "      <td>C1446181326</td>\n",
              "      <td>137107.00</td>\n",
              "      <td>133643.97</td>\n",
              "      <td>M1467424582</td>\n",
              "      <td>0.00</td>\n",
              "      <td>0.00</td>\n",
              "      <td>0.0</td>\n",
              "      <td>0.0</td>\n",
              "    </tr>\n",
              "    <tr>\n",
              "      <th>341825</th>\n",
              "      <td>16</td>\n",
              "      <td>PAYMENT</td>\n",
              "      <td>98.96</td>\n",
              "      <td>C752066037</td>\n",
              "      <td>93488.00</td>\n",
              "      <td>93389.04</td>\n",
              "      <td>M1119815976</td>\n",
              "      <td>0.00</td>\n",
              "      <td>0.00</td>\n",
              "      <td>0.0</td>\n",
              "      <td>0.0</td>\n",
              "    </tr>\n",
              "    <tr>\n",
              "      <th>341826</th>\n",
              "      <td>16</td>\n",
              "      <td>CASH_IN</td>\n",
              "      <td>278319.05</td>\n",
              "      <td>C50488376</td>\n",
              "      <td>93389.04</td>\n",
              "      <td>371708.09</td>\n",
              "      <td>C1331875424</td>\n",
              "      <td>2184489.63</td>\n",
              "      <td>1906170.58</td>\n",
              "      <td>0.0</td>\n",
              "      <td>0.0</td>\n",
              "    </tr>\n",
              "    <tr>\n",
              "      <th>341827</th>\n",
              "      <td>16</td>\n",
              "      <td>CASH_IN</td>\n",
              "      <td>323648.70</td>\n",
              "      <td>C1826674225</td>\n",
              "      <td>371708.09</td>\n",
              "      <td>695356.79</td>\n",
              "      <td>C114649116</td>\n",
              "      <td>346310.91</td>\n",
              "      <td>22662.22</td>\n",
              "      <td>0.0</td>\n",
              "      <td>0.0</td>\n",
              "    </tr>\n",
              "    <tr>\n",
              "      <th>341828</th>\n",
              "      <td>16</td>\n",
              "      <td>CASH_IN</td>\n",
              "      <td>45336.34</td>\n",
              "      <td>C1550631533</td>\n",
              "      <td>695356.79</td>\n",
              "      <td>740693.13</td>\n",
              "      <td>NaN</td>\n",
              "      <td>NaN</td>\n",
              "      <td>NaN</td>\n",
              "      <td>NaN</td>\n",
              "      <td>NaN</td>\n",
              "    </tr>\n",
              "  </tbody>\n",
              "</table>\n",
              "</div>\n",
              "      <button class=\"colab-df-convert\" onclick=\"convertToInteractive('df-7235e9f3-5033-4563-988f-a29f0705dc9e')\"\n",
              "              title=\"Convert this dataframe to an interactive table.\"\n",
              "              style=\"display:none;\">\n",
              "        \n",
              "  <svg xmlns=\"http://www.w3.org/2000/svg\" height=\"24px\"viewBox=\"0 0 24 24\"\n",
              "       width=\"24px\">\n",
              "    <path d=\"M0 0h24v24H0V0z\" fill=\"none\"/>\n",
              "    <path d=\"M18.56 5.44l.94 2.06.94-2.06 2.06-.94-2.06-.94-.94-2.06-.94 2.06-2.06.94zm-11 1L8.5 8.5l.94-2.06 2.06-.94-2.06-.94L8.5 2.5l-.94 2.06-2.06.94zm10 10l.94 2.06.94-2.06 2.06-.94-2.06-.94-.94-2.06-.94 2.06-2.06.94z\"/><path d=\"M17.41 7.96l-1.37-1.37c-.4-.4-.92-.59-1.43-.59-.52 0-1.04.2-1.43.59L10.3 9.45l-7.72 7.72c-.78.78-.78 2.05 0 2.83L4 21.41c.39.39.9.59 1.41.59.51 0 1.02-.2 1.41-.59l7.78-7.78 2.81-2.81c.8-.78.8-2.07 0-2.86zM5.41 20L4 18.59l7.72-7.72 1.47 1.35L5.41 20z\"/>\n",
              "  </svg>\n",
              "      </button>\n",
              "      \n",
              "  <style>\n",
              "    .colab-df-container {\n",
              "      display:flex;\n",
              "      flex-wrap:wrap;\n",
              "      gap: 12px;\n",
              "    }\n",
              "\n",
              "    .colab-df-convert {\n",
              "      background-color: #E8F0FE;\n",
              "      border: none;\n",
              "      border-radius: 50%;\n",
              "      cursor: pointer;\n",
              "      display: none;\n",
              "      fill: #1967D2;\n",
              "      height: 32px;\n",
              "      padding: 0 0 0 0;\n",
              "      width: 32px;\n",
              "    }\n",
              "\n",
              "    .colab-df-convert:hover {\n",
              "      background-color: #E2EBFA;\n",
              "      box-shadow: 0px 1px 2px rgba(60, 64, 67, 0.3), 0px 1px 3px 1px rgba(60, 64, 67, 0.15);\n",
              "      fill: #174EA6;\n",
              "    }\n",
              "\n",
              "    [theme=dark] .colab-df-convert {\n",
              "      background-color: #3B4455;\n",
              "      fill: #D2E3FC;\n",
              "    }\n",
              "\n",
              "    [theme=dark] .colab-df-convert:hover {\n",
              "      background-color: #434B5C;\n",
              "      box-shadow: 0px 1px 3px 1px rgba(0, 0, 0, 0.15);\n",
              "      filter: drop-shadow(0px 1px 2px rgba(0, 0, 0, 0.3));\n",
              "      fill: #FFFFFF;\n",
              "    }\n",
              "  </style>\n",
              "\n",
              "      <script>\n",
              "        const buttonEl =\n",
              "          document.querySelector('#df-7235e9f3-5033-4563-988f-a29f0705dc9e button.colab-df-convert');\n",
              "        buttonEl.style.display =\n",
              "          google.colab.kernel.accessAllowed ? 'block' : 'none';\n",
              "\n",
              "        async function convertToInteractive(key) {\n",
              "          const element = document.querySelector('#df-7235e9f3-5033-4563-988f-a29f0705dc9e');\n",
              "          const dataTable =\n",
              "            await google.colab.kernel.invokeFunction('convertToInteractive',\n",
              "                                                     [key], {});\n",
              "          if (!dataTable) return;\n",
              "\n",
              "          const docLinkHtml = 'Like what you see? Visit the ' +\n",
              "            '<a target=\"_blank\" href=https://colab.research.google.com/notebooks/data_table.ipynb>data table notebook</a>'\n",
              "            + ' to learn more about interactive tables.';\n",
              "          element.innerHTML = '';\n",
              "          dataTable['output_type'] = 'display_data';\n",
              "          await google.colab.output.renderOutput(dataTable, element);\n",
              "          const docLink = document.createElement('div');\n",
              "          docLink.innerHTML = docLinkHtml;\n",
              "          element.appendChild(docLink);\n",
              "        }\n",
              "      </script>\n",
              "    </div>\n",
              "  </div>\n",
              "  "
            ]
          },
          "metadata": {},
          "execution_count": 14
        }
      ]
    },
    {
      "cell_type": "code",
      "source": [
        "list.isnull().sum()"
      ],
      "metadata": {
        "colab": {
          "base_uri": "https://localhost:8080/"
        },
        "id": "EjrcValxc5u4",
        "outputId": "fb248534-174e-4ffa-ff16-f1256abb1db8"
      },
      "execution_count": 16,
      "outputs": [
        {
          "output_type": "execute_result",
          "data": {
            "text/plain": [
              "step              0\n",
              "type              0\n",
              "amount            0\n",
              "nameOrig          0\n",
              "oldbalanceOrg     0\n",
              "newbalanceOrig    0\n",
              "nameDest          1\n",
              "oldbalanceDest    1\n",
              "newbalanceDest    1\n",
              "isFraud           1\n",
              "isFlaggedFraud    1\n",
              "dtype: int64"
            ]
          },
          "metadata": {},
          "execution_count": 16
        }
      ]
    },
    {
      "cell_type": "code",
      "source": [
        "list.duplicated().sum()"
      ],
      "metadata": {
        "colab": {
          "base_uri": "https://localhost:8080/"
        },
        "id": "Ug7sWgURdAFV",
        "outputId": "c746f37c-866e-4090-ebe5-d67b933452ff"
      },
      "execution_count": 17,
      "outputs": [
        {
          "output_type": "execute_result",
          "data": {
            "text/plain": [
              "0"
            ]
          },
          "metadata": {},
          "execution_count": 17
        }
      ]
    },
    {
      "cell_type": "code",
      "source": [
        "list.info()"
      ],
      "metadata": {
        "colab": {
          "base_uri": "https://localhost:8080/"
        },
        "id": "cTlBE606dGc2",
        "outputId": "87fc705d-777b-44bc-9695-ebfa808bc961"
      },
      "execution_count": 20,
      "outputs": [
        {
          "output_type": "stream",
          "name": "stdout",
          "text": [
            "<class 'pandas.core.frame.DataFrame'>\n",
            "RangeIndex: 341829 entries, 0 to 341828\n",
            "Data columns (total 11 columns):\n",
            " #   Column          Non-Null Count   Dtype  \n",
            "---  ------          --------------   -----  \n",
            " 0   step            341829 non-null  int64  \n",
            " 1   type            341829 non-null  object \n",
            " 2   amount          341829 non-null  float64\n",
            " 3   nameOrig        341829 non-null  object \n",
            " 4   oldbalanceOrg   341829 non-null  float64\n",
            " 5   newbalanceOrig  341829 non-null  float64\n",
            " 6   nameDest        341828 non-null  object \n",
            " 7   oldbalanceDest  341828 non-null  float64\n",
            " 8   newbalanceDest  341828 non-null  float64\n",
            " 9   isFraud         341828 non-null  float64\n",
            " 10  isFlaggedFraud  341828 non-null  float64\n",
            "dtypes: float64(7), int64(1), object(3)\n",
            "memory usage: 28.7+ MB\n"
          ]
        }
      ]
    },
    {
      "cell_type": "code",
      "source": [
        "type = list['type'].value_counts()\n",
        "transaction = type.index\n",
        "count = type.values\n",
        "\n",
        "# drawing piechart\n",
        "plt.figure(figsize=(8,8))\n",
        "plt.pie(count, labels=transaction, autopct='%1.0f%%')\n",
        "plt.legend(loc='upper left')\n",
        "plt.show()"
      ],
      "metadata": {
        "colab": {
          "base_uri": "https://localhost:8080/",
          "height": 466
        },
        "id": "6wG8tEJ0dNn5",
        "outputId": "5dae21a1-f16f-4f3a-9f78-ad1fcf1f2fd7"
      },
      "execution_count": 21,
      "outputs": [
        {
          "output_type": "display_data",
          "data": {
            "text/plain": [
              "<Figure size 576x576 with 1 Axes>"
            ],
            "image/png": "[encoded data removed]"
          },
          "metadata": {}
        }
      ]
    },
    {
      "cell_type": "code",
      "source": [
        "plt.figure(figsize=(8,4))\n",
        "ax=sns.countplot(x = \"type\", hue=\"isFraud\", data = list)\n",
        "plt.title('Types of Transaction nonFraud and Fraud')\n",
        "for p in ax.patches:\n",
        "        ax.annotate('{:.1f}'.format(p.get_height()), (p.get_x()+0.1, p.get_height()+50))"
      ],
      "metadata": {
        "colab": {
          "base_uri": "https://localhost:8080/",
          "height": 296
        },
        "id": "oHUuH00fdgKc",
        "outputId": "1ba05c84-aa6d-4b35-d8a5-01c17c572055"
      },
      "execution_count": 24,
      "outputs": [
        {
          "output_type": "display_data",
          "data": {
            "text/plain": [
              "<Figure size 576x288 with 1 Axes>"
            ],
            "image/png": "[encoded data removed]"
          },
          "metadata": {
            "needs_background": "light"
          }
        }
      ]
    },
    {
      "cell_type": "code",
      "source": [
        "data1=list[(list['isFraud']==1) & (list['type']=='TRANSFER')]\n",
        "data1['nameDest'].value_counts()"
      ],
      "metadata": {
        "colab": {
          "base_uri": "https://localhost:8080/"
        },
        "id": "ijbguu2zdsCh",
        "outputId": "a357e0fa-deb5-4947-c793-11347ec2184b"
      },
      "execution_count": 25,
      "outputs": [
        {
          "output_type": "execute_result",
          "data": {
            "text/plain": [
              "C553264065     1\n",
              "C1576053316    1\n",
              "C184294001     1\n",
              "C562360384     1\n",
              "C1281019843    1\n",
              "              ..\n",
              "C908043384     1\n",
              "C1790657739    1\n",
              "C1379589736    1\n",
              "C1589547066    1\n",
              "C428725863     1\n",
              "Name: nameDest, Length: 94, dtype: int64"
            ]
          },
          "metadata": {},
          "execution_count": 25
        }
      ]
    },
    {
      "cell_type": "code",
      "source": [
        "data2=list[(list['isFraud']==1) & (list['type']=='CASH_OUT')]\n",
        "data2['nameOrig'].value_counts()"
      ],
      "metadata": {
        "colab": {
          "base_uri": "https://localhost:8080/"
        },
        "id": "6qTJU5vdeDdM",
        "outputId": "9da19441-92e5-4684-d923-bbd4d52c1bb7"
      },
      "execution_count": 27,
      "outputs": [
        {
          "output_type": "execute_result",
          "data": {
            "text/plain": [
              "C840083671     1\n",
              "C79951219      1\n",
              "C1894004688    1\n",
              "C343345083     1\n",
              "C265790428     1\n",
              "              ..\n",
              "C1191732945    1\n",
              "C1484518113    1\n",
              "C436661284     1\n",
              "C1547714604    1\n",
              "C2140905252    1\n",
              "Name: nameOrig, Length: 99, dtype: int64"
            ]
          },
          "metadata": {},
          "execution_count": 27
        }
      ]
    },
    {
      "cell_type": "code",
      "source": [
        "fraud = list[list[\"isFraud\"] == 1]\n",
        "valid = list[list[\"isFraud\"] == 0]"
      ],
      "metadata": {
        "id": "LtftLyoYeMLl"
      },
      "execution_count": 28,
      "outputs": []
    },
    {
      "cell_type": "code",
      "source": [
        "fraud_transfer = fraud[fraud[\"type\"] == \"TRANSFER\"]\n",
        "fraud_cashout = fraud[fraud[\"type\"] == \"CASH_OUT\"]"
      ],
      "metadata": {
        "id": "zEOYro3TeZzn"
      },
      "execution_count": 29,
      "outputs": []
    },
    {
      "cell_type": "code",
      "source": [
        "# checking if the recipient account of a fraudulent transfer was used as a sending account for cashing out \n",
        "fraud_transfer.nameDest.isin(fraud_cashout.nameOrig).any()"
      ],
      "metadata": {
        "colab": {
          "base_uri": "https://localhost:8080/"
        },
        "id": "VaCEiIhVedd-",
        "outputId": "b140a0b2-4482-4840-ea0f-5dd87829dd4a"
      },
      "execution_count": 30,
      "outputs": [
        {
          "output_type": "execute_result",
          "data": {
            "text/plain": [
              "False"
            ]
          },
          "metadata": {},
          "execution_count": 30
        }
      ]
    },
    {
      "cell_type": "code",
      "source": [
        "from pickle import LIST\n",
        "# adding feature type1\n",
        "data_new = list.copy() # creating copy of dataset in case I need original dataset\n",
        "data_new[\"Type2\"] = np.nan # initializing feature column\n",
        "\n",
        "# filling feature column\n",
        "data_new.loc[list.nameOrig.str.contains('C') & list.nameDest.str.contains('C'),\"Type2\"] = \"CC\" \n",
        "data_new.loc[list.nameOrig.str.contains('C') & list.nameDest.str.contains('M'),\"Type2\"] = \"CM\"\n",
        "data_new.loc[list.nameOrig.str.contains('M') & list.nameDest.str.contains('C'),\"Type2\"] = \"MC\"\n",
        "data_new.loc[list.nameOrig.str.contains('M') & list.nameDest.str.contains('M'),\"Type2\"] = \"MM\""
      ],
      "metadata": {
        "id": "1zxizGo9eh0F"
      },
      "execution_count": 32,
      "outputs": []
    },
    {
      "cell_type": "code",
      "source": [
        "plt.figure(figsize=(25, 16))\n",
        "plt.subplot(2,2,1)\n",
        "sns.boxplot(x = 'isFraud', y = 'step', data = data_new)\n",
        "plt.title('step vs Fraud',fontweight=\"bold\", size=20)\n",
        "plt.subplot(2,2,2)\n",
        "sns.boxplot(x = 'isFraud', y = 'amount', data = data_new,palette=\"husl\")\n",
        "plt.title('amount vs Fraud',fontweight=\"bold\", size=20)\n",
        "plt.subplot(2,2,3)\n",
        "sns.boxplot(x = 'isFraud', y = 'oldbalanceOrg', data = data_new, palette= 'husl')\n",
        "plt.title('oldbalanceOrig vs Fraud',fontweight=\"bold\", size=20)\n",
        "plt.subplot(2,2,4)\n",
        "sns.boxplot(x = 'isFraud', y = 'oldbalanceDest', data = data_new,palette=\"bright\")\n",
        "plt.title('oldbalanceDest vs Fraud',fontweight=\"bold\", size=20)"
      ],
      "metadata": {
        "colab": {
          "base_uri": "https://localhost:8080/",
          "height": 950
        },
        "id": "2RYNm7GTeyzL",
        "outputId": "99eca945-b605-4734-f528-2aabc220b073"
      },
      "execution_count": 33,
      "outputs": [
        {
          "output_type": "execute_result",
          "data": {
            "text/plain": [
              "Text(0.5, 1.0, 'oldbalanceDest vs Fraud')"
            ]
          },
          "metadata": {},
          "execution_count": 33
        },
        {
          "output_type": "display_data",
          "data": {
            "text/plain": [
              "<Figure size 1800x1152 with 4 Axes>"
            ],
            "image/png": "[encoded data removed]"
          },
          "metadata": {
            "needs_background": "light"
          }
        }
      ]
    },
    {
      "cell_type": "code",
      "source": [
        "fraud = data_new[data_new[\"isFraud\"] == 1]\n",
        "valid = data_new[data_new[\"isFraud\"] == 0]"
      ],
      "metadata": {
        "id": "pxbMxDnqe7_s"
      },
      "execution_count": 35,
      "outputs": []
    },
    {
      "cell_type": "code",
      "source": [
        "print(\"Fraud transactions by type1: \\n\",fraud.Type2.value_counts())\n",
        "print(\"\\n Valid transactions by type1: \\n\",valid.Type2.value_counts())"
      ],
      "metadata": {
        "colab": {
          "base_uri": "https://localhost:8080/"
        },
        "id": "R71X0etAfD89",
        "outputId": "91545cbd-b0ee-40b5-d434-5a15f967599a"
      },
      "execution_count": 36,
      "outputs": [
        {
          "output_type": "stream",
          "name": "stdout",
          "text": [
            "Fraud transactions by type1: \n",
            " CC    193\n",
            "Name: Type2, dtype: int64\n",
            "\n",
            " Valid transactions by type1: \n",
            " CC    224970\n",
            "CM    116665\n",
            "Name: Type2, dtype: int64\n"
          ]
        }
      ]
    },
    {
      "cell_type": "code",
      "source": [
        "wrong_orig_bal = sum(list[\"oldbalanceOrg\"] - list[\"amount\"] != list[\"newbalanceOrig\"])\n",
        "wrong_dest_bal = sum(list[\"newbalanceDest\"] + list[\"amount\"] != list[\"newbalanceDest\"])\n",
        "print(\"Percentage of observations with balance errors in the account giving money: \", 100*round(wrong_orig_bal/len(list),2))\n",
        "print(\"Percentage of observations with balance errors in the account receiving money: \", 100*round(wrong_dest_bal/len(list),2))"
      ],
      "metadata": {
        "colab": {
          "base_uri": "https://localhost:8080/"
        },
        "id": "pWnEIs2wfTu1",
        "outputId": "352e1813-35f6-4b00-c130-2b42444fa340"
      },
      "execution_count": 37,
      "outputs": [
        {
          "output_type": "stream",
          "name": "stdout",
          "text": [
            "Percentage of observations with balance errors in the account giving money:  85.0\n",
            "Percentage of observations with balance errors in the account receiving money:  100.0\n"
          ]
        }
      ]
    },
    {
      "cell_type": "code",
      "source": [
        "bins = 50\n",
        "\n",
        "valid.hist(column=\"step\",color=\"green\",bins=bins)\n",
        "plt.xlabel(\"1 hour time step\")\n",
        "plt.ylabel(\"# of transactions\")\n",
        "plt.title(\"# of valid transactions over time\")\n",
        "\n",
        "fraud.hist(column =\"step\",color=\"red\",bins=bins)\n",
        "plt.xlabel(\"1 hour time step\")\n",
        "plt.ylabel(\"# of transactions\")\n",
        "plt.title(\"# of fraud transactions over time\")\n",
        "\n",
        "plt.tight_layout()\n",
        "plt.show()"
      ],
      "metadata": {
        "colab": {
          "base_uri": "https://localhost:8080/",
          "height": 575
        },
        "id": "rBPFEXM-fiG3",
        "outputId": "4b0c1969-c4e0-46fd-fa9a-9c0d25aef143"
      },
      "execution_count": 38,
      "outputs": [
        {
          "output_type": "display_data",
          "data": {
            "text/plain": [
              "<Figure size 432x288 with 1 Axes>"
            ],
            "image/png": "[encoded data removed]"
          },
          "metadata": {
            "needs_background": "light"
          }
        },
        {
          "output_type": "display_data",
          "data": {
            "text/plain": [
              "<Figure size 432x288 with 1 Axes>"
            ],
            "image/png": "[encoded data removed]"
          },
          "metadata": {
            "needs_background": "light"
          }
        }
      ]
    },
    {
      "cell_type": "code",
      "source": [
        "num_days = 7\n",
        "num_hours = 24\n",
        "fraud_days = (fraud.step//num_hours)% num_days\n",
        "fraud_hours = fraud.step % num_hours\n",
        "valid_days = (valid.step//num_hours) % num_days\n",
        "valid_hours = valid.step % num_hours\n",
        "\n",
        "# plotting scatterplot of the days of the week, identifying the fraudulent transactions (red) from the valid transactions (green) \n",
        "plt.subplot(1, 2, 1)\n",
        "fraud_days.hist(bins=num_days,color=\"red\")\n",
        "plt.title('Fraud transactions by Day')\n",
        "plt.xlabel('Day of the Week')\n",
        "plt.ylabel(\"# of transactions\")\n",
        "\n",
        "plt.subplot(1,2,2)\n",
        "valid_days.hist(bins=num_days,color=\"green\")\n",
        "plt.title('Valid transactions by Day')\n",
        "plt.xlabel('Day of the Week')\n",
        "plt.ylabel(\"# of transactions\")\n",
        "plt.tight_layout()\n",
        "plt.show()"
      ],
      "metadata": {
        "colab": {
          "base_uri": "https://localhost:8080/",
          "height": 297
        },
        "id": "XvJP1HrNfpu2",
        "outputId": "ebe6d6c9-d990-4e96-cb95-5318361de5be"
      },
      "execution_count": 40,
      "outputs": [
        {
          "output_type": "display_data",
          "data": {
            "text/plain": [
              "<Figure size 432x288 with 2 Axes>"
            ],
            "image/png": "[encoded data removed]"
          },
          "metadata": {
            "needs_background": "light"
          }
        }
      ]
    },
    {
      "cell_type": "code",
      "source": [
        "plt.subplot(1, 2, 1)\n",
        "fraud_hours.hist(bins=num_hours, color=\"red\")\n",
        "plt.title('Fraud transactions by Hour')\n",
        "plt.xlabel('Hour of the Day')\n",
        "plt.ylabel(\"# of transactions\")\n",
        "\n",
        "\n",
        "plt.subplot(1, 2, 2)\n",
        "valid_hours.hist(bins=num_hours, color=\"green\")\n",
        "plt.title('Valid transactions by Hour')\n",
        "plt.xlabel('Hour of the Day')\n",
        "plt.ylabel(\"# of transactions\")\n",
        "\n",
        "plt.tight_layout()\n",
        "plt.show()\n"
      ],
      "metadata": {
        "colab": {
          "base_uri": "https://localhost:8080/",
          "height": 297
        },
        "id": "cNRB24GNfxMO",
        "outputId": "a233d281-933f-41c6-c2d5-4d3c5494373b"
      },
      "execution_count": 41,
      "outputs": [
        {
          "output_type": "display_data",
          "data": {
            "text/plain": [
              "<Figure size 432x288 with 2 Axes>"
            ],
            "image/png": "[encoded data removed]"
          },
          "metadata": {
            "needs_background": "light"
          }
        }
      ]
    },
    {
      "cell_type": "code",
      "source": [
        "data_new[\"HourOfDay\"] = np.nan # initializing feature column\n",
        "data_new.HourOfDay = data_new.step % 24\n",
        "\n",
        "\n",
        "print(\"Head of dataset1: \\n\", pd.DataFrame.head(data_new))"
      ],
      "metadata": {
        "colab": {
          "base_uri": "https://localhost:8080/"
        },
        "id": "OxLAhQn_f6dD",
        "outputId": "a7787365-443a-4447-8ed9-0bc18c75ca5f"
      },
      "execution_count": 42,
      "outputs": [
        {
          "output_type": "stream",
          "name": "stdout",
          "text": [
            "Head of dataset1: \n",
            "    step      type    amount     nameOrig  oldbalanceOrg  newbalanceOrig  \\\n",
            "0     1   PAYMENT   9839.64  C1231006815       170136.0       160296.36   \n",
            "1     1   PAYMENT   1864.28  C1666544295        21249.0        19384.72   \n",
            "2     1  TRANSFER    181.00  C1305486145          181.0            0.00   \n",
            "3     1  CASH_OUT    181.00   C840083671          181.0            0.00   \n",
            "4     1   PAYMENT  11668.14  C2048537720        41554.0        29885.86   \n",
            "\n",
            "      nameDest  oldbalanceDest  newbalanceDest  isFraud  isFlaggedFraud Type2  \\\n",
            "0  M1979787155             0.0             0.0      0.0             0.0    CM   \n",
            "1  M2044282225             0.0             0.0      0.0             0.0    CM   \n",
            "2   C553264065             0.0             0.0      1.0             0.0    CC   \n",
            "3    C38997010         21182.0             0.0      1.0             0.0    CC   \n",
            "4  M1230701703             0.0             0.0      0.0             0.0    CM   \n",
            "\n",
            "   HourOfDay  \n",
            "0          1  \n",
            "1          1  \n",
            "2          1  \n",
            "3          1  \n",
            "4          1  \n"
          ]
        }
      ]
    },
    {
      "cell_type": "code",
      "source": [
        "data_new = data_new.drop([\"isFlaggedFraud\",'nameOrig','nameDest'],1)"
      ],
      "metadata": {
        "colab": {
          "base_uri": "https://localhost:8080/"
        },
        "id": "1fTCjWuxf-0V",
        "outputId": "a8a33826-b26a-4b48-cb4a-3033ff9764ff"
      },
      "execution_count": 43,
      "outputs": [
        {
          "output_type": "stream",
          "name": "stderr",
          "text": [
            "<ipython-input-43-4bcf0d2fb863>:1: FutureWarning: In a future version of pandas all arguments of DataFrame.drop except for the argument 'labels' will be keyword-only\n",
            "  data_new = data_new.drop([\"isFlaggedFraud\",'nameOrig','nameDest'],1)\n"
          ]
        }
      ]
    },
    {
      "cell_type": "code",
      "source": [
        "data_new = pd.get_dummies(data_new,prefix=['type','Type2'],drop_first=True)"
      ],
      "metadata": {
        "id": "sj34fI7WgDto"
      },
      "execution_count": 44,
      "outputs": []
    }
  ]
}